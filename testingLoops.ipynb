{
 "cells": [
  {
   "cell_type": "code",
   "execution_count": 2,
   "metadata": {},
   "outputs": [
    {
     "name": "stdout",
     "output_type": "stream",
     "text": [
      "1\n",
      "2\n",
      "3\n",
      "4\n",
      "5\n"
     ]
    }
   ],
   "source": [
    "numbers=[1,2,3,4,5]\n",
    "for number in numbers:\n",
    "    print(number)"
   ]
  },
  {
   "cell_type": "code",
   "execution_count": null,
   "metadata": {},
   "outputs": [],
   "source": [
    "for i in range(200,300):\n",
    "    if i%17==0:\n",
    "        print(i)"
   ]
  },
  {
   "cell_type": "code",
   "execution_count": 1,
   "metadata": {},
   "outputs": [
    {
     "name": "stdout",
     "output_type": "stream",
     "text": [
      "15\n"
     ]
    }
   ],
   "source": [
    "numberss=[1,2,3,4,5]\n",
    "total=0\n",
    "for number in numberss:\n",
    "    total+=number\n",
    "print(total)"
   ]
  },
  {
   "cell_type": "code",
   "execution_count": null,
   "metadata": {},
   "outputs": [],
   "source": [
    "i=0\n",
    "while i<=10:\n",
    "    i+=2\n",
    "    print(i)"
   ]
  },
  {
   "cell_type": "code",
   "execution_count": null,
   "metadata": {},
   "outputs": [],
   "source": [
    "total=0\n",
    "i=1\n",
    "while i <=20:\n",
    "    x=int(input())\n",
    "    if x%2!=0:\n",
    "        total+=x\n",
    "    i+=1\n",
    "print(i)"
   ]
  },
  {
   "cell_type": "code",
   "execution_count": null,
   "metadata": {},
   "outputs": [],
   "source": [
    "gb=[[\"o\",\"n\",\"o\",\"n\",\"o\"], \n",
    "    [\"n\",\"o\",\"n\",\"o\",\"n\"], \n",
    "    [\"o\",\"n\",\"o\",\"n\",\"o\"], \n",
    "    [\"n\",\"o\",\"n\",\"o\",\"n\"], \n",
    "    [\"o\",\"n\",\"o\",\"n\",\"o\"]]\n",
    "\n",
    "for i in gb:\n",
    "    print(i)"
   ]
  },
  {
   "cell_type": "code",
   "execution_count": null,
   "metadata": {},
   "outputs": [],
   "source": [
    "stuff=[\"phone\",\"your\",\"down\",\"put\",\"Owen\"]\n",
    "for i in range(1,len(stuff)+1):\n",
    "    print(stuff[-i])"
   ]
  },
  {
   "cell_type": "code",
   "execution_count": null,
   "metadata": {},
   "outputs": [],
   "source": [
    "i=0\n",
    "x=0\n",
    "y=1\n",
    "total=0\n",
    "while i<10:\n",
    "    total=x+y\n",
    "    x=y\n",
    "    y=total\n",
    "    print(total)\n",
    "    i+=1"
   ]
  },
  {
   "cell_type": "code",
   "execution_count": null,
   "metadata": {},
   "outputs": [],
   "source": [
    "num=int(input(\"type a number >> \"))\n",
    "div=(num-1)\n",
    "for i in range(1,num):\n",
    "    if i%div==0:\n",
    "        print(\"not prime\")\n",
    "        break\n",
    "    elif div==2:\n",
    "        print(\"number is prime\")\n",
    "        break\n",
    "    elif div>0:\n",
    "        div-=1"
   ]
  },
  {
   "cell_type": "code",
   "execution_count": null,
   "metadata": {},
   "outputs": [],
   "source": [
    "hight=int(input(\"\"))\n",
    "width=int(input(\"\"))\n",
    "print(\"* \"*width)\n",
    "for i in range(0,hight-2):\n",
    "    print(\"*\"+(width)*\" \"+\"*\")\n",
    "print(\"* \"*width)"
   ]
  }
 ],
 "metadata": {
  "kernelspec": {
   "display_name": "Python 3",
   "language": "python",
   "name": "python3"
  },
  "language_info": {
   "codemirror_mode": {
    "name": "ipython",
    "version": 3
   },
   "file_extension": ".py",
   "mimetype": "text/x-python",
   "name": "python",
   "nbconvert_exporter": "python",
   "pygments_lexer": "ipython3",
   "version": "3.9.6"
  }
 },
 "nbformat": 4,
 "nbformat_minor": 2
}
