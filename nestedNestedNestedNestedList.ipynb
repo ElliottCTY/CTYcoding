{
 "cells": [
  {
   "cell_type": "markdown",
   "metadata": {},
   "source": [
    "Find the index of the integer 21 in the following nested list!"
   ]
  },
  {
   "cell_type": "code",
   "execution_count": 2,
   "metadata": {},
   "outputs": [
    {
     "name": "stdout",
     "output_type": "stream",
     "text": [
      "21\n"
     ]
    }
   ],
   "source": [
    "nested_list = [\n",
    "    [\n",
    "        [\n",
    "            [\n",
    "                1, 2, 3\n",
    "            ],\n",
    "            [\n",
    "                4, 5, 6\n",
    "            ]\n",
    "        ],\n",
    "        [\n",
    "            [\n",
    "                7, 8, 9\n",
    "            ],\n",
    "            [\n",
    "                10, 11, 12\n",
    "            ]\n",
    "        ]\n",
    "    ],\n",
    "    [\n",
    "        [\n",
    "            [\n",
    "                13, 14, 15\n",
    "            ],\n",
    "            [\n",
    "                16, 17, 18\n",
    "            ]\n",
    "        ],\n",
    "        [\n",
    "            [\n",
    "                19, 20, 21\n",
    "            ],\n",
    "            [\n",
    "                22, 23, 24\n",
    "            ]\n",
    "        ]\n",
    "    ]\n",
    "]\n",
    "print(nested_list[1][1][0][2])\n"
   ]
  }
 ],
 "metadata": {
  "kernelspec": {
   "display_name": "Python 3",
   "language": "python",
   "name": "python3"
  },
  "language_info": {
   "codemirror_mode": {
    "name": "ipython",
    "version": 3
   },
   "file_extension": ".py",
   "mimetype": "text/x-python",
   "name": "python",
   "nbconvert_exporter": "python",
   "pygments_lexer": "ipython3",
   "version": "3.9.6"
  }
 },
 "nbformat": 4,
 "nbformat_minor": 2
}
