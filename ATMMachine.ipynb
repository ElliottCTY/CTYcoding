{
 "cells": [
  {
   "cell_type": "markdown",
   "metadata": {},
   "source": [
    "Inside an automated teller machine (ATM) there are notes of $10, $5, and $1. Write a Python program to emulate the way this ATM works. \n",
    "At the beginning, the machine prompts the user to enter the four-digit PIN and then checks for PIN validity (assume “1234” as the valid PIN). If given PIN is correct, the program must prompt the user to enter the amount of money (an integer value) that he or she wants to withdraw and finally it displays the least number of notes the ATM must dispense. \n",
    "\n",
    "\n",
    "For example, if the user enters an amount of $36, the program must display “3 note(s) of $10, 1 note(s) of $5, and 1 note(s) of $1”. Moreover, if the user enters a wrong PIN, the machine will allow him or her two retries. If the user enters an incorrect PIN all three times, the message “PIN locked” must be displayed and the program must end. Assume that the user enters a valid value for the amount.\n"
   ]
  },
  {
   "cell_type": "markdown",
   "metadata": {},
   "source": [
    "In the cell below: make sure you define all of your variables"
   ]
  },
  {
   "cell_type": "code",
   "execution_count": null,
   "metadata": {},
   "outputs": [],
   "source": [
    "code=input(\"input your four digit code >> \")\n",
    "correct=(\"1234\")\n",
    "locked=False\n",
    "balance=1000\n",
    "\n"
   ]
  },
  {
   "cell_type": "markdown",
   "metadata": {},
   "source": [
    "Next, you are required to ask the user to enter a password. If the user is granted access to the system, the program should print a welcome message. If the user is denied access to the system, the program should print a message indicating that the password is incorrect. The program should then terminate after three attempts, and no further access is given."
   ]
  },
  {
   "cell_type": "code",
   "execution_count": null,
   "metadata": {},
   "outputs": [],
   "source": [
    "if code==correct:\n",
    "    print(\"Welcome\")\n",
    "    \n",
    "elif code!=correct:\n",
    "    print(\"Incorrect 1/3\")\n",
    "    code=input(\"input your four digit code >> \")\n",
    "    if code==correct:\n",
    "        print(\"Welcome\")\n",
    "    elif code!=correct:\n",
    "        print(\"Incorrect 2/3\")\n",
    "        code=input(\"input your four digit code >> \")\n",
    "        if code==correct:\n",
    "            print(\"Welcome\")\n",
    "        elif code!=correct:\n",
    "            print(\"Incorrect 3/3\\nPIN locked\")\n",
    "            locked=True"
   ]
  },
  {
   "cell_type": "markdown",
   "metadata": {},
   "source": [
    "Next, the user is required to input what he wants. He has the following options:\n",
    "1) deposit a check\n",
    "2) check your balance\n",
    "3) withdraw an amount of money\n",
    "4) change your password\n",
    "\n",
    "Make sure you register the option that the user picks into some variable!\n",
    "In case the user picks the wrong option, the program should print an error message."
   ]
  },
  {
   "cell_type": "code",
   "execution_count": null,
   "metadata": {},
   "outputs": [],
   "source": [
    "if locked==False:\n",
    "    print(\"press 1 to: deposit a check\\npress 2 to: check your balance\\npress 3 to: withdraw an amount of money\\npress 4 to: change your password\\npress 5 to: exit\")\n",
    "    options=input(\"input number >> \")\n",
    "else:\n",
    "    pass"
   ]
  },
  {
   "cell_type": "markdown",
   "metadata": {},
   "source": [
    "Write the code that covers option 1 (deposit a check)"
   ]
  },
  {
   "cell_type": "code",
   "execution_count": null,
   "metadata": {},
   "outputs": [],
   "source": [
    "if locked==False and options==\"1\":\n",
    "    deposit=input(\"how much will you be depositing? >> \")\n",
    "    print(f\"${deposit} deposited\\nyour balance is now ${balance+int(deposit)}\")\n",
    "    \n",
    "else:\n",
    "    pass"
   ]
  },
  {
   "cell_type": "markdown",
   "metadata": {},
   "source": [
    "write the code that covers option 2 (check your balance)"
   ]
  },
  {
   "cell_type": "code",
   "execution_count": null,
   "metadata": {},
   "outputs": [],
   "source": [
    "if locked==False and options==\"2\":\n",
    "    print(f'${balance}')\n",
    "else:\n",
    "    pass"
   ]
  },
  {
   "cell_type": "markdown",
   "metadata": {},
   "source": [
    "write the code that covers option 3: This is the complicated part: you are required to use // to determine how many 10"
   ]
  },
  {
   "cell_type": "code",
   "execution_count": null,
   "metadata": {},
   "outputs": [],
   "source": [
    "if locked==False and options==\"3\":\n",
    "    withdraw=input(\"how much will you be withdrawing? >> \")\n",
    "    try:\n",
    "        if int(withdraw)<=balance and int(withdraw)>=0:\n",
    "            withdraw=int(withdraw)\n",
    "            ten=withdraw//10\n",
    "            remainTen=withdraw%10\n",
    "            five=remainTen//5\n",
    "            remainFive=remainTen%5\n",
    "            one=remainFive\n",
    "            print(f'{ten} ten dollar bills or ${ten*10}\\n{five} five dollar bills or ${five*5}\\n{one} one dollar bills or ${one}\\n\\nyour balance is now ${balance-withdraw}')\n",
    "        elif int(withdraw)>balance:\n",
    "            print(\"you do now have enough money to do this\")\n",
    "        elif int(withdraw)<0:\n",
    "            print('your number is negative\\nto do this action you can make a deposit')\n",
    "    except:\n",
    "        print(\"your input is not valid\")\n",
    "else:\n",
    "    pass"
   ]
  },
  {
   "cell_type": "markdown",
   "metadata": {},
   "source": [
    "write the code that covers option 4 (change your password)"
   ]
  },
  {
   "cell_type": "code",
   "execution_count": null,
   "metadata": {},
   "outputs": [],
   "source": [
    "if locked==False and options==\"4\":\n",
    "    newCode=input(\"what is your new code >> \")\n",
    "    print(f'code changed to {newCode}')\n",
    "else:\n",
    "    pass"
   ]
  },
  {
   "cell_type": "markdown",
   "metadata": {},
   "source": [
    "write code that covers option 5 (exit)"
   ]
  },
  {
   "cell_type": "code",
   "execution_count": null,
   "metadata": {},
   "outputs": [],
   "source": [
    "if locked==False and options==\"5\":\n",
    "    locked=True\n",
    "    print(\"thank you for using the ATM\")\n",
    "else:\n",
    "    print(\"your input is not an intiger\")"
   ]
  }
 ],
 "metadata": {
  "kernelspec": {
   "display_name": "Python 3",
   "language": "python",
   "name": "python3"
  },
  "language_info": {
   "codemirror_mode": {
    "name": "ipython",
    "version": 3
   },
   "file_extension": ".py",
   "mimetype": "text/x-python",
   "name": "python",
   "nbconvert_exporter": "python",
   "pygments_lexer": "ipython3",
   "version": "3.9.6"
  }
 },
 "nbformat": 4,
 "nbformat_minor": 2
}
