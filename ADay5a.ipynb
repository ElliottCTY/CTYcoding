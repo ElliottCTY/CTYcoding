{
 "cells": [
  {
   "cell_type": "markdown",
   "metadata": {},
   "source": [
    "List practices"
   ]
  },
  {
   "cell_type": "code",
   "execution_count": null,
   "metadata": {},
   "outputs": [],
   "source": [
    "list1=['apple','banana','cherry']\n",
    "list2=[1,2,3,4,5]\n",
    "list3=[True,False,True]\n",
    "list4=[\"apple\",1,True]\n",
    "list5=[1,2,3,True,\"apples\",\"banana\",\"cherry\"]\n",
    "print(list1)\n",
    "print(len(list3))\n",
    "print(list5[-1])"
   ]
  },
  {
   "cell_type": "code",
   "execution_count": null,
   "metadata": {},
   "outputs": [],
   "source": [
    "numbers1=list(range(1,100))\n",
    "numbers2=list(range(1,100,5))\n",
    "MAX=max(numbers1)\n",
    "MIN=min(numbers2)\n",
    "#print(numbers1)\n",
    "#print(numbers2)\n",
    "#print(MAX)\n",
    "#print(MIN)\n",
    "A1=numbers1[0:5]\n",
    "B1=numbers1[0:50:3]\n",
    "C1=numbers1[30:]\n",
    "D1=numbers1[::2]\n",
    "E1=numbers1[::-1]\n",
    "F1=numbers1[-3]\n",
    "G1=numbers1[-3:]\n",
    "print(C)"
   ]
  },
  {
   "cell_type": "markdown",
   "metadata": {},
   "source": [
    "exercise 1"
   ]
  },
  {
   "cell_type": "code",
   "execution_count": 1,
   "metadata": {},
   "outputs": [
    {
     "name": "stdout",
     "output_type": "stream",
     "text": [
      "[9, 2, 3, 4, 5, 6, 7, 8, 1]\n"
     ]
    }
   ],
   "source": [
    "listA=list(range(1,10))\n",
    "a=listA[:1]\n",
    "c=listA[-1:]\n",
    "b=listA[1:-1]\n",
    "swap=c+b+a\n",
    "print(swap)"
   ]
  },
  {
   "cell_type": "markdown",
   "metadata": {},
   "source": [
    "exercise 2"
   ]
  },
  {
   "cell_type": "code",
   "execution_count": 2,
   "metadata": {},
   "outputs": [
    {
     "name": "stdout",
     "output_type": "stream",
     "text": [
      "[98] [99]\n"
     ]
    }
   ],
   "source": [
    "listB=list(range(1,100))\n",
    "MAX1=listB[-1:]\n",
    "MAX2=listB[-2:-1]\n",
    "print(MAX2,MAX1)"
   ]
  },
  {
   "cell_type": "markdown",
   "metadata": {},
   "source": [
    "exercise 3"
   ]
  },
  {
   "cell_type": "code",
   "execution_count": 13,
   "metadata": {},
   "outputs": [
    {
     "name": "stdout",
     "output_type": "stream",
     "text": [
      "invalid input\n"
     ]
    }
   ],
   "source": [
    "n=int(input(\"number >> \"))\n",
    "listC=list('abcdefghijklmnopqrstuvwxyz')\n",
    "if n<len(listC)/2 :\n",
    "    a1=listC[:n]\n",
    "    c1=listC[-n:]\n",
    "    b1=listC[n:-n]\n",
    "    swap1=c1+b1+a1\n",
    "    print(swap1)\n",
    "else:\n",
    "    print(\"invalid input\")"
   ]
  },
  {
   "cell_type": "markdown",
   "metadata": {},
   "source": [
    "exercise 4"
   ]
  },
  {
   "cell_type": "code",
   "execution_count": 4,
   "metadata": {},
   "outputs": [
    {
     "name": "stdout",
     "output_type": "stream",
     "text": [
      "[9, 8, 7, 6, 5, 4, 3, 2, 1]\n"
     ]
    }
   ],
   "source": [
    "listD=list(range(1,10))\n",
    "flip=listD[::-1]\n",
    "print(flip)"
   ]
  }
 ],
 "metadata": {
  "kernelspec": {
   "display_name": "Python 3",
   "language": "python",
   "name": "python3"
  },
  "language_info": {
   "codemirror_mode": {
    "name": "ipython",
    "version": 3
   },
   "file_extension": ".py",
   "mimetype": "text/x-python",
   "name": "python",
   "nbconvert_exporter": "python",
   "pygments_lexer": "ipython3",
   "version": "3.9.6"
  }
 },
 "nbformat": 4,
 "nbformat_minor": 2
}
