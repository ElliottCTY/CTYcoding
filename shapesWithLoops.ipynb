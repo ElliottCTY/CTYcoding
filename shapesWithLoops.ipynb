{
 "cells": [
  {
   "cell_type": "code",
   "execution_count": 69,
   "metadata": {},
   "outputs": [
    {
     "name": "stdout",
     "output_type": "stream",
     "text": [
      "****\n",
      "*  *\n",
      "*  *\n",
      "****\n"
     ]
    }
   ],
   "source": [
    "hight=int(input(\"\"))\n",
    "length=int(input(\"\"))\n",
    "part=\"*\"\n",
    "print(part*length)\n",
    "for i in range(0,hight-2):\n",
    "    print(part+(length-2)*\" \"+part)\n",
    "\n",
    "\n",
    "print(part*length)"
   ]
  },
  {
   "cell_type": "code",
   "execution_count": 16,
   "metadata": {},
   "outputs": [
    {
     "name": "stdout",
     "output_type": "stream",
     "text": [
      "     *\n",
      "    ***\n",
      "   *****\n"
     ]
    }
   ],
   "source": [
    "stars=int(input(\"\"))\n",
    "for i in range(0,int((stars+1)/2)):\n",
    "    print((stars-i)*\" \"+(2*i+1)*\"*\")"
   ]
  },
  {
   "cell_type": "code",
   "execution_count": 17,
   "metadata": {},
   "outputs": [
    {
     "name": "stdout",
     "output_type": "stream",
     "text": [
      "***\n",
      " *\n",
      "  \n",
      "   \n",
      "    \n"
     ]
    }
   ],
   "source": [
    "stars=int(input(\"\"))\n",
    "for i in range(0,stars):\n",
    "    print(\" \"*(i)+(stars-2)*\"*\")\n",
    "    stars-=2"
   ]
  },
  {
   "cell_type": "code",
   "execution_count": 76,
   "metadata": {},
   "outputs": [
    {
     "name": "stdout",
     "output_type": "stream",
     "text": [
      "         *\n",
      "        ***\n",
      "       *****\n",
      "      *******\n",
      "     *********\n",
      "      *******\n",
      "       *****\n",
      "        ***\n",
      "         *\n",
      "          \n"
     ]
    }
   ],
   "source": [
    "stars=int(input(\"\"))\n",
    "for i in range(0,int((stars+1)/2)):\n",
    "    print((stars-i)*\" \"+(2*i+1)*\"*\")\n",
    "\n",
    "\n",
    "for i in range(0,int((stars+1)/2)):\n",
    "    print(int(stars/2+i+2)*\" \"+((stars-2*i)-2)*\"*\")"
   ]
  }
 ],
 "metadata": {
  "kernelspec": {
   "display_name": "Python 3",
   "language": "python",
   "name": "python3"
  },
  "language_info": {
   "codemirror_mode": {
    "name": "ipython",
    "version": 3
   },
   "file_extension": ".py",
   "mimetype": "text/x-python",
   "name": "python",
   "nbconvert_exporter": "python",
   "pygments_lexer": "ipython3",
   "version": "3.9.6"
  }
 },
 "nbformat": 4,
 "nbformat_minor": 2
}
